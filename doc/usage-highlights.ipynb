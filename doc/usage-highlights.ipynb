{
 "cells": [
  {
   "cell_type": "markdown",
   "id": "ideal-precipitation",
   "metadata": {},
   "source": [
    "# Introduction"
   ]
  },
  {
   "cell_type": "markdown",
   "id": "complex-wheat",
   "metadata": {},
   "source": [
    "## Package features"
   ]
  },
  {
   "cell_type": "markdown",
   "id": "rubber-sponsorship",
   "metadata": {},
   "source": [
    "This package provides functionality to characterize sets of genomic regions. One or more sets of genomic regions are analyzed for the strength and significance of their association with certain biological features. This includes adjacency to genes from meaningful genesets and overlap with genomic regions such as ChIP-Seq peaks or predicted TFBS.\n",
    "\n",
    "Common to all analyses in this package is the notion of comparing a set of regions of interest (ROIs) with a set of background regions, in order to find out whether a biological feature is enriched or depleted in the ROIs compared to the background. Different scenarios are supported:\n",
    "\n",
    "1. Comparison within an experimental universe. In modern studies, we often have large datasets covering many considerably different biological populations (or single cells which can be grouped in various distinct clusters). For example, a dataset may characterize various distinct hematopoietic populations. Such studies typically aim to find and characterize various sets of ROIs characterizing different populations. In these cases, often the set of all identified ROIs can serve as a background against which individual ROI subsets are compared. Such tests answer the question: what distinguishes the ROI set characterizing population A from the ROIs observed in other populations?\n",
    "2. When the experimental design is not compatible with performing comparisons within the universe of experimentally observed ROIs, two approaches are supported:\n",
    "    1. Translate the observed ROIs into a set of associated genes and perform standard overrepresentation enrichment analysis.\n",
    "    2. Compare the observed ROIs against a simulated background (work in progress)."
   ]
  },
  {
   "cell_type": "markdown",
   "id": "addressed-jason",
   "metadata": {},
   "source": [
    "## Package maturity"
   ]
  },
  {
   "cell_type": "markdown",
   "id": "sublime-reaction",
   "metadata": {},
   "source": [
    "This package is unreleased and unpublished software, but we use it often in in-house projects. We can not yet provide support for external users. Also, we do change the API from time to time, without regard for health and safety of external users. Given this development stage, we also do not yet provide a complete documentation."
   ]
  },
  {
   "cell_type": "markdown",
   "id": "legal-mongolia",
   "metadata": {},
   "source": [
    "## Content of this vignette"
   ]
  },
  {
   "cell_type": "markdown",
   "id": "atmospheric-chancellor",
   "metadata": {},
   "source": [
    "This vignette is not meant as a complete documentation of all package features (cf. package maturity above). Rather, this notebook is intended to showcase how the package was used to perform some recently published analyses, in order to make the performed analyses more transparent."
   ]
  },
  {
   "cell_type": "markdown",
   "id": "blind-payment",
   "metadata": {},
   "source": [
    "# Imports"
   ]
  },
  {
   "cell_type": "markdown",
   "id": "following-raleigh",
   "metadata": {},
   "source": [
    "Run these imports prior to all examples"
   ]
  },
  {
   "cell_type": "code",
   "execution_count": 1,
   "id": "modular-eight",
   "metadata": {},
   "outputs": [],
   "source": [
    "import pandas as pd\n",
    "\n",
    "import region_set_profiler as rsp\n",
    "\n",
    "import codaplot as co\n",
    "import matplotlib.pyplot as plt\n",
    "import numpy as np\n",
    "from statsmodels.stats.multitest import multipletests"
   ]
  },
  {
   "cell_type": "code",
   "execution_count": 2,
   "id": "rotary-central",
   "metadata": {},
   "outputs": [],
   "source": [
    "%matplotlib inline"
   ]
  },
  {
   "cell_type": "code",
   "execution_count": 3,
   "id": "suspected-pathology",
   "metadata": {},
   "outputs": [],
   "source": [
    "def mht_correction(p_value_df):\n",
    "    pvals_corrected = multipletests(\n",
    "        p_value_df.to_numpy().flatten(order=\"C\"),\n",
    "        method=\"fdr_bh\",\n",
    "        returnsorted=False,\n",
    "    )[1]\n",
    "    q_value_df = pd.DataFrame(\n",
    "        pvals_corrected.reshape(p_value_df.shape),\n",
    "        index=p_value_df.index,\n",
    "        columns=p_value_df.columns,\n",
    "    )\n",
    "    return q_value_df"
   ]
  },
  {
   "cell_type": "markdown",
   "id": "concerned-university",
   "metadata": {},
   "source": [
    "# Enrichments within an experimental universe"
   ]
  },
  {
   "cell_type": "markdown",
   "id": "amino-zealand",
   "metadata": {},
   "source": [
    "See introduction above - these tools are meant to characterize subsets of large sets of ROIs against each other."
   ]
  },
  {
   "cell_type": "markdown",
   "id": "expanded-minority",
   "metadata": {},
   "source": [
    "## Test for association with genesets"
   ]
  },
  {
   "cell_type": "markdown",
   "id": "emotional-improvement",
   "metadata": {},
   "source": [
    "In this analysis type, we are interested in testing whether subsets of ROIs from a large experimental universe are significantly associated with certain genesets, i.e. whether the ROI subsets are in proximity of the genes of certain genesets more often than the background regions."
   ]
  },
  {
   "cell_type": "markdown",
   "id": "horizontal-makeup",
   "metadata": {},
   "source": [
    "### Preparation of input data"
   ]
  },
  {
   "cell_type": "markdown",
   "id": "advised-serum",
   "metadata": {},
   "source": [
    "What is sufficient proximity to associate a genomic region with a certain gene? It will depend on the question at hand. Therefore, regionset_profiler makes no attempt at providing a general solution. Rather, the user provides a gene annotation for all ROIs, and decides about how to filter for biological meaningful proximity. regionset_profiler expects only the following information as a result of this analysis: a Series mapping each ROI to be used in the test to a gene."
   ]
  },
  {
   "cell_type": "markdown",
   "id": "adverse-going",
   "metadata": {},
   "source": [
    "For this vignette, we provide 3,000 clustered toy DMRs (differentially methylated regions), placed (with considerable noise) in proximity of characteristic genes of four hematopoietic populations (real world datasets in this analysis type would be much larger, of course). Can we find out which DMR cluster belongs to which population?"
   ]
  },
  {
   "cell_type": "markdown",
   "id": "cutting-springer",
   "metadata": {},
   "source": [
    "For this example, gene annotation has already been performed. You can use any decent gene annotation tool of your liking and adapt gene annotations in any way you see fit to get a set of ROI-to-gene annotations with some confidence. In this case, we used our in-house tool [gftanno](https://github.com/stephenkraemer/gtfanno), but again this should be chosen on a case-by-case basis. "
   ]
  },
  {
   "cell_type": "markdown",
   "id": "christian-aviation",
   "metadata": {},
   "source": [
    "Here are the annoteted DMRs"
   ]
  },
  {
   "cell_type": "code",
   "execution_count": 4,
   "id": "unknown-italic",
   "metadata": {},
   "outputs": [
    {
     "data": {
      "text/html": [
       "<div>\n",
       "<style scoped>\n",
       "    .dataframe tbody tr th:only-of-type {\n",
       "        vertical-align: middle;\n",
       "    }\n",
       "\n",
       "    .dataframe tbody tr th {\n",
       "        vertical-align: top;\n",
       "    }\n",
       "\n",
       "    .dataframe thead th {\n",
       "        text-align: right;\n",
       "    }\n",
       "</style>\n",
       "<table border=\"1\" class=\"dataframe\">\n",
       "  <thead>\n",
       "    <tr style=\"text-align: right;\">\n",
       "      <th></th>\n",
       "      <th></th>\n",
       "      <th></th>\n",
       "      <th>Gene</th>\n",
       "      <th>GenomicRegion</th>\n",
       "      <th>ClusterID</th>\n",
       "    </tr>\n",
       "    <tr>\n",
       "      <th>Chromosome</th>\n",
       "      <th>Start</th>\n",
       "      <th>End</th>\n",
       "      <th></th>\n",
       "      <th></th>\n",
       "      <th></th>\n",
       "    </tr>\n",
       "  </thead>\n",
       "  <tbody>\n",
       "    <tr>\n",
       "      <th rowspan=\"5\" valign=\"top\">1</th>\n",
       "      <th>7139742</th>\n",
       "      <th>7139990</th>\n",
       "      <td>Gm26983</td>\n",
       "      <td>Promoter</td>\n",
       "      <td>C1</td>\n",
       "    </tr>\n",
       "    <tr>\n",
       "      <th>9548071</th>\n",
       "      <th>9548115</th>\n",
       "      <td>Adhfe1</td>\n",
       "      <td>Promoter</td>\n",
       "      <td>C2</td>\n",
       "    </tr>\n",
       "    <tr>\n",
       "      <th>10316090</th>\n",
       "      <th>10316863</th>\n",
       "      <td></td>\n",
       "      <td>intergenic</td>\n",
       "      <td>C2</td>\n",
       "    </tr>\n",
       "    <tr>\n",
       "      <th>16297792</th>\n",
       "      <th>16297835</th>\n",
       "      <td>Stau2</td>\n",
       "      <td>intron</td>\n",
       "      <td>C3</td>\n",
       "    </tr>\n",
       "    <tr>\n",
       "      <th>33482222</th>\n",
       "      <th>33482405</th>\n",
       "      <td>Gm29228</td>\n",
       "      <td>Promoter</td>\n",
       "      <td>C2</td>\n",
       "    </tr>\n",
       "  </tbody>\n",
       "</table>\n",
       "</div>"
      ],
      "text/plain": [
       "                                 Gene GenomicRegion ClusterID\n",
       "Chromosome Start    End                                      \n",
       "1          7139742  7139990   Gm26983      Promoter        C1\n",
       "           9548071  9548115    Adhfe1      Promoter        C2\n",
       "           10316090 10316863             intergenic        C2\n",
       "           16297792 16297835    Stau2        intron        C3\n",
       "           33482222 33482405  Gm29228      Promoter        C2"
      ]
     },
     "execution_count": 4,
     "metadata": {},
     "output_type": "execute_result"
    }
   ],
   "source": [
    "simulated_dmr_clusters = pd.read_pickle(\"simulated_dmr_clusters.p\")\n",
    "simulated_dmr_clusters.head(5)"
   ]
  },
  {
   "cell_type": "markdown",
   "id": "cooked-rendering",
   "metadata": {},
   "source": [
    "This dataframe contains annotations to a gene (if possible) and genomic region (promoter, intron, exon etc.) as described here: [gtfanno](https://github.com/stephenkraemer/gtfanno). It's up to you to decide which annotations you want to consider. All of them? Or just the promoter annotations? Let's use everything within a gene or within a Promoter, and exclude everything else (for example intergenic DMRs which could not be associated with a gene). The further away from a gene we are, the less confidence we have in the annotations... Of course, if you had 4C data etc., you would integrate this at this step to get better annotations!"
   ]
  },
  {
   "cell_type": "code",
   "execution_count": 5,
   "id": "further-trash",
   "metadata": {},
   "outputs": [
    {
     "data": {
      "text/html": [
       "<div>\n",
       "<style scoped>\n",
       "    .dataframe tbody tr th:only-of-type {\n",
       "        vertical-align: middle;\n",
       "    }\n",
       "\n",
       "    .dataframe tbody tr th {\n",
       "        vertical-align: top;\n",
       "    }\n",
       "\n",
       "    .dataframe thead th {\n",
       "        text-align: right;\n",
       "    }\n",
       "</style>\n",
       "<table border=\"1\" class=\"dataframe\">\n",
       "  <thead>\n",
       "    <tr style=\"text-align: right;\">\n",
       "      <th></th>\n",
       "      <th></th>\n",
       "      <th></th>\n",
       "      <th>Gene</th>\n",
       "      <th>GenomicRegion</th>\n",
       "      <th>ClusterID</th>\n",
       "    </tr>\n",
       "    <tr>\n",
       "      <th>Chromosome</th>\n",
       "      <th>Start</th>\n",
       "      <th>End</th>\n",
       "      <th></th>\n",
       "      <th></th>\n",
       "      <th></th>\n",
       "    </tr>\n",
       "  </thead>\n",
       "  <tbody>\n",
       "    <tr>\n",
       "      <th rowspan=\"5\" valign=\"top\">1</th>\n",
       "      <th>7139742</th>\n",
       "      <th>7139990</th>\n",
       "      <td>Gm26983</td>\n",
       "      <td>Promoter</td>\n",
       "      <td>C1</td>\n",
       "    </tr>\n",
       "    <tr>\n",
       "      <th>9548071</th>\n",
       "      <th>9548115</th>\n",
       "      <td>Adhfe1</td>\n",
       "      <td>Promoter</td>\n",
       "      <td>C2</td>\n",
       "    </tr>\n",
       "    <tr>\n",
       "      <th>16297792</th>\n",
       "      <th>16297835</th>\n",
       "      <td>Stau2</td>\n",
       "      <td>intron</td>\n",
       "      <td>C3</td>\n",
       "    </tr>\n",
       "    <tr>\n",
       "      <th>33482222</th>\n",
       "      <th>33482405</th>\n",
       "      <td>Gm29228</td>\n",
       "      <td>Promoter</td>\n",
       "      <td>C2</td>\n",
       "    </tr>\n",
       "    <tr>\n",
       "      <th>33594864</th>\n",
       "      <th>33596335</th>\n",
       "      <td>Prim2</td>\n",
       "      <td>intron</td>\n",
       "      <td>C3</td>\n",
       "    </tr>\n",
       "    <tr>\n",
       "      <th>...</th>\n",
       "      <th>...</th>\n",
       "      <th>...</th>\n",
       "      <td>...</td>\n",
       "      <td>...</td>\n",
       "      <td>...</td>\n",
       "    </tr>\n",
       "    <tr>\n",
       "      <th rowspan=\"5\" valign=\"top\">9</th>\n",
       "      <th>121008086</th>\n",
       "      <th>121008374</th>\n",
       "      <td>Ulk4</td>\n",
       "      <td>intron</td>\n",
       "      <td>C3</td>\n",
       "    </tr>\n",
       "    <tr>\n",
       "      <th>121379312</th>\n",
       "      <th>121379380</th>\n",
       "      <td>Trak1</td>\n",
       "      <td>Promoter</td>\n",
       "      <td>C2</td>\n",
       "    </tr>\n",
       "    <tr>\n",
       "      <th>121896742</th>\n",
       "      <th>121897004</th>\n",
       "      <td>Ackr2</td>\n",
       "      <td>Promoter</td>\n",
       "      <td>C3</td>\n",
       "    </tr>\n",
       "    <tr>\n",
       "      <th>123078354</th>\n",
       "      <th>123078533</th>\n",
       "      <td>Zdhhc3</td>\n",
       "      <td>intron</td>\n",
       "      <td>C2</td>\n",
       "    </tr>\n",
       "    <tr>\n",
       "      <th>123186193</th>\n",
       "      <th>123186646</th>\n",
       "      <td>Cdcp1</td>\n",
       "      <td>intron</td>\n",
       "      <td>C2</td>\n",
       "    </tr>\n",
       "  </tbody>\n",
       "</table>\n",
       "<p>2241 rows × 3 columns</p>\n",
       "</div>"
      ],
      "text/plain": [
       "                                   Gene GenomicRegion ClusterID\n",
       "Chromosome Start     End                                       \n",
       "1          7139742   7139990    Gm26983      Promoter        C1\n",
       "           9548071   9548115     Adhfe1      Promoter        C2\n",
       "           16297792  16297835     Stau2        intron        C3\n",
       "           33482222  33482405   Gm29228      Promoter        C2\n",
       "           33594864  33596335     Prim2        intron        C3\n",
       "...                                 ...           ...       ...\n",
       "9          121008086 121008374     Ulk4        intron        C3\n",
       "           121379312 121379380    Trak1      Promoter        C2\n",
       "           121896742 121897004    Ackr2      Promoter        C3\n",
       "           123078354 123078533   Zdhhc3        intron        C2\n",
       "           123186193 123186646    Cdcp1        intron        C2\n",
       "\n",
       "[2241 rows x 3 columns]"
      ]
     },
     "execution_count": 5,
     "metadata": {},
     "output_type": "execute_result"
    }
   ],
   "source": [
    "dmrs_filtered = simulated_dmr_clusters.loc[\n",
    "    simulated_dmr_clusters[\"GenomicRegion\"].isin(\n",
    "        [\"Promoter\", \"5'-UTR\", \"3'-UTR\", \"intron\", \"exon\"]\n",
    "    )\n",
    "]\n",
    "dmrs_filtered"
   ]
  },
  {
   "cell_type": "markdown",
   "id": "african-scoop",
   "metadata": {},
   "source": [
    "These are the regions we want to use for our enrichment analysis!"
   ]
  },
  {
   "cell_type": "markdown",
   "id": "covered-vertical",
   "metadata": {},
   "source": [
    "Next, we need to define the genesets we are interested in. These files should be in the common GMT format (which is for example the format used by MSIGDB). For this demo, we have prepared some [marker genesets for hematopoietic populations](marker-genes-100.gmt)"
   ]
  },
  {
   "cell_type": "markdown",
   "id": "familiar-proposal",
   "metadata": {},
   "source": [
    "### Test and quantify association"
   ]
  },
  {
   "cell_type": "markdown",
   "id": "driving-switzerland",
   "metadata": {},
   "source": [
    "We start by generating a GenesetOverlapStats object (if we were interested in comparing against other genomic intervals instead of regions, we would create a OverlapStats object instead)."
   ]
  },
  {
   "cell_type": "code",
   "execution_count": 6,
   "id": "indie-threat",
   "metadata": {},
   "outputs": [],
   "source": [
    "overlap_stats = rsp.GenesetOverlapStats(\n",
    "    annotations=dmrs_filtered[\"Gene\"].str.upper(), genesets_fp=\"marker-genes-100.gmt\"\n",
    ")"
   ]
  },
  {
   "cell_type": "markdown",
   "id": "clinical-footage",
   "metadata": {},
   "source": [
    "We can use the compute method to identify overlaps between ROIs and the genesets:"
   ]
  },
  {
   "cell_type": "code",
   "execution_count": 7,
   "id": "eligible-promise",
   "metadata": {},
   "outputs": [],
   "source": [
    "overlap_stats.compute()"
   ]
  },
  {
   "cell_type": "markdown",
   "id": "comfortable-bradford",
   "metadata": {},
   "source": [
    "The result is a coverage df, detailing for each ROI whether it is in proximity to a gene from a geneset:"
   ]
  },
  {
   "cell_type": "code",
   "execution_count": 8,
   "id": "latin-disco",
   "metadata": {},
   "outputs": [
    {
     "data": {
      "text/html": [
       "<div>\n",
       "<style scoped>\n",
       "    .dataframe tbody tr th:only-of-type {\n",
       "        vertical-align: middle;\n",
       "    }\n",
       "\n",
       "    .dataframe tbody tr th {\n",
       "        vertical-align: top;\n",
       "    }\n",
       "\n",
       "    .dataframe thead th {\n",
       "        text-align: right;\n",
       "    }\n",
       "</style>\n",
       "<table border=\"1\" class=\"dataframe\">\n",
       "  <thead>\n",
       "    <tr style=\"text-align: right;\">\n",
       "      <th></th>\n",
       "      <th></th>\n",
       "      <th></th>\n",
       "      <th>B-cells</th>\n",
       "      <th>CFU-E</th>\n",
       "      <th>HSC</th>\n",
       "      <th>Neutrophils</th>\n",
       "      <th>Monocytes</th>\n",
       "    </tr>\n",
       "    <tr>\n",
       "      <th>Chromosome</th>\n",
       "      <th>Start</th>\n",
       "      <th>End</th>\n",
       "      <th></th>\n",
       "      <th></th>\n",
       "      <th></th>\n",
       "      <th></th>\n",
       "      <th></th>\n",
       "    </tr>\n",
       "  </thead>\n",
       "  <tbody>\n",
       "    <tr>\n",
       "      <th rowspan=\"5\" valign=\"top\">1</th>\n",
       "      <th>7139742</th>\n",
       "      <th>7139990</th>\n",
       "      <td>0</td>\n",
       "      <td>0</td>\n",
       "      <td>0</td>\n",
       "      <td>0</td>\n",
       "      <td>0</td>\n",
       "    </tr>\n",
       "    <tr>\n",
       "      <th>9548071</th>\n",
       "      <th>9548115</th>\n",
       "      <td>0</td>\n",
       "      <td>0</td>\n",
       "      <td>0</td>\n",
       "      <td>0</td>\n",
       "      <td>0</td>\n",
       "    </tr>\n",
       "    <tr>\n",
       "      <th>16297792</th>\n",
       "      <th>16297835</th>\n",
       "      <td>0</td>\n",
       "      <td>0</td>\n",
       "      <td>0</td>\n",
       "      <td>0</td>\n",
       "      <td>0</td>\n",
       "    </tr>\n",
       "    <tr>\n",
       "      <th>33482222</th>\n",
       "      <th>33482405</th>\n",
       "      <td>0</td>\n",
       "      <td>0</td>\n",
       "      <td>0</td>\n",
       "      <td>0</td>\n",
       "      <td>0</td>\n",
       "    </tr>\n",
       "    <tr>\n",
       "      <th>33594864</th>\n",
       "      <th>33596335</th>\n",
       "      <td>0</td>\n",
       "      <td>0</td>\n",
       "      <td>0</td>\n",
       "      <td>0</td>\n",
       "      <td>0</td>\n",
       "    </tr>\n",
       "    <tr>\n",
       "      <th>...</th>\n",
       "      <th>...</th>\n",
       "      <th>...</th>\n",
       "      <td>...</td>\n",
       "      <td>...</td>\n",
       "      <td>...</td>\n",
       "      <td>...</td>\n",
       "      <td>...</td>\n",
       "    </tr>\n",
       "    <tr>\n",
       "      <th rowspan=\"5\" valign=\"top\">9</th>\n",
       "      <th>121008086</th>\n",
       "      <th>121008374</th>\n",
       "      <td>0</td>\n",
       "      <td>0</td>\n",
       "      <td>0</td>\n",
       "      <td>0</td>\n",
       "      <td>0</td>\n",
       "    </tr>\n",
       "    <tr>\n",
       "      <th>121379312</th>\n",
       "      <th>121379380</th>\n",
       "      <td>0</td>\n",
       "      <td>0</td>\n",
       "      <td>0</td>\n",
       "      <td>0</td>\n",
       "      <td>0</td>\n",
       "    </tr>\n",
       "    <tr>\n",
       "      <th>121896742</th>\n",
       "      <th>121897004</th>\n",
       "      <td>0</td>\n",
       "      <td>0</td>\n",
       "      <td>0</td>\n",
       "      <td>0</td>\n",
       "      <td>0</td>\n",
       "    </tr>\n",
       "    <tr>\n",
       "      <th>123078354</th>\n",
       "      <th>123078533</th>\n",
       "      <td>0</td>\n",
       "      <td>0</td>\n",
       "      <td>0</td>\n",
       "      <td>0</td>\n",
       "      <td>0</td>\n",
       "    </tr>\n",
       "    <tr>\n",
       "      <th>123186193</th>\n",
       "      <th>123186646</th>\n",
       "      <td>0</td>\n",
       "      <td>0</td>\n",
       "      <td>0</td>\n",
       "      <td>0</td>\n",
       "      <td>0</td>\n",
       "    </tr>\n",
       "  </tbody>\n",
       "</table>\n",
       "<p>2241 rows × 5 columns</p>\n",
       "</div>"
      ],
      "text/plain": [
       "                                B-cells  CFU-E  HSC  Neutrophils  Monocytes\n",
       "Chromosome Start     End                                                   \n",
       "1          7139742   7139990          0      0    0            0          0\n",
       "           9548071   9548115          0      0    0            0          0\n",
       "           16297792  16297835         0      0    0            0          0\n",
       "           33482222  33482405         0      0    0            0          0\n",
       "           33594864  33596335         0      0    0            0          0\n",
       "...                                 ...    ...  ...          ...        ...\n",
       "9          121008086 121008374        0      0    0            0          0\n",
       "           121379312 121379380        0      0    0            0          0\n",
       "           121896742 121897004        0      0    0            0          0\n",
       "           123078354 123078533        0      0    0            0          0\n",
       "           123186193 123186646        0      0    0            0          0\n",
       "\n",
       "[2241 rows x 5 columns]"
      ]
     },
     "execution_count": 8,
     "metadata": {},
     "output_type": "execute_result"
    }
   ],
   "source": [
    "overlap_stats.coverage_df"
   ]
  },
  {
   "cell_type": "markdown",
   "id": "confidential-crack",
   "metadata": {},
   "source": [
    "There are no hits in the head and tail - how many are there overall?"
   ]
  },
  {
   "cell_type": "code",
   "execution_count": 9,
   "id": "superior-cover",
   "metadata": {},
   "outputs": [
    {
     "data": {
      "text/plain": [
       "B-cells        16\n",
       "CFU-E           7\n",
       "HSC            21\n",
       "Neutrophils     9\n",
       "Monocytes       9\n",
       "dtype: int64"
      ]
     },
     "execution_count": 9,
     "metadata": {},
     "output_type": "execute_result"
    }
   ],
   "source": [
    "overlap_stats.coverage_df.sum()"
   ]
  },
  {
   "cell_type": "markdown",
   "id": "running-wells",
   "metadata": {},
   "source": [
    "Next, we use the cluster information to aggregate this hits per cluster"
   ]
  },
  {
   "cell_type": "code",
   "execution_count": 11,
   "id": "different-latvia",
   "metadata": {},
   "outputs": [],
   "source": [
    "cluster_overlap_stats = overlap_stats.aggregate(dmrs_filtered[\"ClusterID\"])"
   ]
  },
  {
   "cell_type": "code",
   "execution_count": 12,
   "id": "committed-qualification",
   "metadata": {},
   "outputs": [
    {
     "data": {
      "text/html": [
       "<div>\n",
       "<style scoped>\n",
       "    .dataframe tbody tr th:only-of-type {\n",
       "        vertical-align: middle;\n",
       "    }\n",
       "\n",
       "    .dataframe tbody tr th {\n",
       "        vertical-align: top;\n",
       "    }\n",
       "\n",
       "    .dataframe thead th {\n",
       "        text-align: right;\n",
       "    }\n",
       "</style>\n",
       "<table border=\"1\" class=\"dataframe\">\n",
       "  <thead>\n",
       "    <tr style=\"text-align: right;\">\n",
       "      <th>dataset</th>\n",
       "      <th>B-cells</th>\n",
       "      <th>CFU-E</th>\n",
       "      <th>HSC</th>\n",
       "      <th>Neutrophils</th>\n",
       "      <th>Monocytes</th>\n",
       "    </tr>\n",
       "    <tr>\n",
       "      <th>cluster_id</th>\n",
       "      <th></th>\n",
       "      <th></th>\n",
       "      <th></th>\n",
       "      <th></th>\n",
       "      <th></th>\n",
       "    </tr>\n",
       "  </thead>\n",
       "  <tbody>\n",
       "    <tr>\n",
       "      <th>C1</th>\n",
       "      <td>4</td>\n",
       "      <td>4</td>\n",
       "      <td>17</td>\n",
       "      <td>1</td>\n",
       "      <td>1</td>\n",
       "    </tr>\n",
       "    <tr>\n",
       "      <th>C2</th>\n",
       "      <td>1</td>\n",
       "      <td>0</td>\n",
       "      <td>0</td>\n",
       "      <td>8</td>\n",
       "      <td>5</td>\n",
       "    </tr>\n",
       "    <tr>\n",
       "      <th>C3</th>\n",
       "      <td>11</td>\n",
       "      <td>3</td>\n",
       "      <td>4</td>\n",
       "      <td>0</td>\n",
       "      <td>3</td>\n",
       "    </tr>\n",
       "  </tbody>\n",
       "</table>\n",
       "</div>"
      ],
      "text/plain": [
       "dataset     B-cells  CFU-E  HSC  Neutrophils  Monocytes\n",
       "cluster_id                                             \n",
       "C1                4      4   17            1          1\n",
       "C2                1      0    0            8          5\n",
       "C3               11      3    4            0          3"
      ]
     },
     "execution_count": 12,
     "metadata": {},
     "output_type": "execute_result"
    }
   ],
   "source": [
    "cluster_overlap_stats.hits"
   ]
  },
  {
   "cell_type": "markdown",
   "id": "civilian-modern",
   "metadata": {},
   "source": [
    "We already have an intuition now - look like cluster C3 is associated with B cell marker genes, cluster C1 with HSC markers and cluster C2 with Neutrophil markers. But this needs to be tested. Let's test this, using the two-sided Fisher's exact test by default!"
   ]
  },
  {
   "cell_type": "code",
   "execution_count": 13,
   "id": "adjusted-special",
   "metadata": {},
   "outputs": [],
   "source": [
    "cluster_overlap_stats.test_per_cluster_per_feature()"
   ]
  },
  {
   "cell_type": "markdown",
   "id": "israeli-eight",
   "metadata": {},
   "source": [
    "The p-values are here:"
   ]
  },
  {
   "cell_type": "code",
   "execution_count": 14,
   "id": "fabulous-hollow",
   "metadata": {},
   "outputs": [
    {
     "data": {
      "text/html": [
       "<div>\n",
       "<style scoped>\n",
       "    .dataframe tbody tr th:only-of-type {\n",
       "        vertical-align: middle;\n",
       "    }\n",
       "\n",
       "    .dataframe tbody tr th {\n",
       "        vertical-align: top;\n",
       "    }\n",
       "\n",
       "    .dataframe thead th {\n",
       "        text-align: right;\n",
       "    }\n",
       "</style>\n",
       "<table border=\"1\" class=\"dataframe\">\n",
       "  <thead>\n",
       "    <tr style=\"text-align: right;\">\n",
       "      <th>dataset</th>\n",
       "      <th>B-cells</th>\n",
       "      <th>CFU-E</th>\n",
       "      <th>HSC</th>\n",
       "      <th>Neutrophils</th>\n",
       "      <th>Monocytes</th>\n",
       "    </tr>\n",
       "    <tr>\n",
       "      <th>cluster_id</th>\n",
       "      <th></th>\n",
       "      <th></th>\n",
       "      <th></th>\n",
       "      <th></th>\n",
       "      <th></th>\n",
       "    </tr>\n",
       "  </thead>\n",
       "  <tbody>\n",
       "    <tr>\n",
       "      <th>C1</th>\n",
       "      <td>0.445164</td>\n",
       "      <td>0.251156</td>\n",
       "      <td>0.000022</td>\n",
       "      <td>0.172590</td>\n",
       "      <td>0.172590</td>\n",
       "    </tr>\n",
       "    <tr>\n",
       "      <th>C2</th>\n",
       "      <td>0.028799</td>\n",
       "      <td>0.103667</td>\n",
       "      <td>0.000282</td>\n",
       "      <td>0.000826</td>\n",
       "      <td>0.163533</td>\n",
       "    </tr>\n",
       "    <tr>\n",
       "      <th>C3</th>\n",
       "      <td>0.004754</td>\n",
       "      <td>0.686885</td>\n",
       "      <td>0.245615</td>\n",
       "      <td>0.065344</td>\n",
       "      <td>1.000000</td>\n",
       "    </tr>\n",
       "  </tbody>\n",
       "</table>\n",
       "</div>"
      ],
      "text/plain": [
       "dataset      B-cells     CFU-E       HSC  Neutrophils  Monocytes\n",
       "cluster_id                                                      \n",
       "C1          0.445164  0.251156  0.000022     0.172590   0.172590\n",
       "C2          0.028799  0.103667  0.000282     0.000826   0.163533\n",
       "C3          0.004754  0.686885  0.245615     0.065344   1.000000"
      ]
     },
     "execution_count": 14,
     "metadata": {},
     "output_type": "execute_result"
    }
   ],
   "source": [
    "cluster_overlap_stats.cluster_pvalues"
   ]
  },
  {
   "cell_type": "markdown",
   "id": "suffering-azerbaijan",
   "metadata": {},
   "source": [
    "And here are the log-odds ratios:"
   ]
  },
  {
   "cell_type": "code",
   "execution_count": 15,
   "id": "thorough-pioneer",
   "metadata": {},
   "outputs": [
    {
     "data": {
      "text/html": [
       "<div>\n",
       "<style scoped>\n",
       "    .dataframe tbody tr th:only-of-type {\n",
       "        vertical-align: middle;\n",
       "    }\n",
       "\n",
       "    .dataframe tbody tr th {\n",
       "        vertical-align: top;\n",
       "    }\n",
       "\n",
       "    .dataframe thead th {\n",
       "        text-align: right;\n",
       "    }\n",
       "</style>\n",
       "<table border=\"1\" class=\"dataframe\">\n",
       "  <thead>\n",
       "    <tr style=\"text-align: right;\">\n",
       "      <th>dataset</th>\n",
       "      <th>B-cells</th>\n",
       "      <th>CFU-E</th>\n",
       "      <th>HSC</th>\n",
       "      <th>Neutrophils</th>\n",
       "      <th>Monocytes</th>\n",
       "    </tr>\n",
       "    <tr>\n",
       "      <th>cluster_id</th>\n",
       "      <th></th>\n",
       "      <th></th>\n",
       "      <th></th>\n",
       "      <th></th>\n",
       "      <th></th>\n",
       "    </tr>\n",
       "  </thead>\n",
       "  <tbody>\n",
       "    <tr>\n",
       "      <th>C1</th>\n",
       "      <td>-0.506878</td>\n",
       "      <td>1.202550</td>\n",
       "      <td>2.751653</td>\n",
       "      <td>-1.299779</td>\n",
       "      <td>-1.299779</td>\n",
       "    </tr>\n",
       "    <tr>\n",
       "      <th>C2</th>\n",
       "      <td>-1.975638</td>\n",
       "      <td>-1.969892</td>\n",
       "      <td>-3.442843</td>\n",
       "      <td>3.221577</td>\n",
       "      <td>1.305871</td>\n",
       "    </tr>\n",
       "    <tr>\n",
       "      <th>C3</th>\n",
       "      <td>2.104289</td>\n",
       "      <td>0.767077</td>\n",
       "      <td>-0.769356</td>\n",
       "      <td>-2.243714</td>\n",
       "      <td>0.279752</td>\n",
       "    </tr>\n",
       "  </tbody>\n",
       "</table>\n",
       "</div>"
      ],
      "text/plain": [
       "dataset      B-cells     CFU-E       HSC  Neutrophils  Monocytes\n",
       "cluster_id                                                      \n",
       "C1         -0.506878  1.202550  2.751653    -1.299779  -1.299779\n",
       "C2         -1.975638 -1.969892 -3.442843     3.221577   1.305871\n",
       "C3          2.104289  0.767077 -0.769356    -2.243714   0.279752"
      ]
     },
     "execution_count": 15,
     "metadata": {},
     "output_type": "execute_result"
    }
   ],
   "source": [
    "cluster_overlap_stats.log_odds_ratio"
   ]
  },
  {
   "cell_type": "markdown",
   "id": "typical-winner",
   "metadata": {},
   "source": [
    "Finally, perform MHT correction:"
   ]
  },
  {
   "cell_type": "code",
   "execution_count": 16,
   "id": "collaborative-brooks",
   "metadata": {},
   "outputs": [],
   "source": [
    "q_values = mht_correction(cluster_overlap_stats.cluster_pvalues)"
   ]
  },
  {
   "cell_type": "markdown",
   "id": "republican-plane",
   "metadata": {},
   "source": [
    "### Visualize the results"
   ]
  },
  {
   "cell_type": "markdown",
   "id": "affecting-rates",
   "metadata": {},
   "source": [
    "#### Log-odds"
   ]
  },
  {
   "cell_type": "markdown",
   "id": "electric-serial",
   "metadata": {},
   "source": [
    "Let's first look at the log-odds ratios:"
   ]
  },
  {
   "cell_type": "code",
   "execution_count": 17,
   "id": "desperate-updating",
   "metadata": {},
   "outputs": [
    {
     "data": {
      "image/png": "[encoded data removed]",
      "text/plain": [
       "<Figure size 432x288 with 2 Axes>"
      ]
     },
     "metadata": {
      "needs_background": "light"
     },
     "output_type": "display_data"
    }
   ],
   "source": [
    "fig, ax = plt.subplots(1, 1)\n",
    "_ = co.heatmap(\n",
    "    df=cluster_overlap_stats.log_odds_ratio,\n",
    "    ax=ax,\n",
    "    xticklabels=True,\n",
    "    yticklabels=True,\n",
    "    yticklabel_side='left',\n",
    "    cmap=\"RdBu_r\",\n",
    "    show_guide=True,\n",
    "    norm=co.plotting.MidpointNormalize(vmin=-2, midpoint=0, vmax=3),\n",
    ")"
   ]
  },
  {
   "cell_type": "markdown",
   "id": "abandoned-chart",
   "metadata": {},
   "source": [
    "#### P-values"
   ]
  },
  {
   "cell_type": "markdown",
   "id": "charged-basin",
   "metadata": {},
   "source": [
    "To confirm the trends we see in the log-odds plot, let's visualize the p-values. One helpful visualization is a heatmap of `-np.sign(cluster_overlap_stats.log_odds_ratio) * np.log10(q_values)`"
   ]
  },
  {
   "cell_type": "code",
   "execution_count": 18,
   "id": "gorgeous-ordinary",
   "metadata": {},
   "outputs": [
    {
     "data": {
      "image/png": "[encoded data removed]",
      "text/plain": [
       "<Figure size 432x288 with 2 Axes>"
      ]
     },
     "metadata": {
      "needs_background": "light"
     },
     "output_type": "display_data"
    }
   ],
   "source": [
    "fig, ax = plt.subplots(1, 1)\n",
    "_ = co.heatmap(\n",
    "    df=-np.sign(cluster_overlap_stats.log_odds_ratio) * np.log10(q_values),\n",
    "    ax=ax,\n",
    "    xticklabels=True,\n",
    "    yticklabels=True,\n",
    "    yticklabel_side='left',\n",
    "    cmap=\"RdBu_r\",\n",
    "    show_guide=True,\n",
    "    norm=co.plotting.MidpointNormalize(vmin=-2, midpoint=0, vmax=3),\n",
    ")"
   ]
  },
  {
   "cell_type": "markdown",
   "id": "pharmaceutical-ideal",
   "metadata": {},
   "source": [
    "We have winners - this toy example clearly provided DMRs in proximity (or covering) genes from B cell, HSC and Neutrophil marker genesets. We can distinguish them from CFU-E and Monocyte genesets - but we can also see that there is some overlap between the CFU-E and HSC, and the Neutrophil and Monocyte annotations. Next we might want to check whether that is due to overlap between the genesets, or due to the presence of different genesets within our DMR clusters - but that's beyond the basic usage we wanted to introduce here :)"
   ]
  }
 ],
 "metadata": {
  "kernelspec": {
   "display_name": "Python [conda env:regionset_profiler]",
   "language": "python",
   "name": "conda-env-regionset_profiler-py"
  },
  "language_info": {
   "codemirror_mode": {
    "name": "ipython",
    "version": 3
   },
   "file_extension": ".py",
   "mimetype": "text/x-python",
   "name": "python",
   "nbconvert_exporter": "python",
   "pygments_lexer": "ipython3",
   "version": "3.8.8"
  },
  "toc-autonumbering": true
 },
 "nbformat": 4,
 "nbformat_minor": 5
}
